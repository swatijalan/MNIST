{
 "cells": [
  {
   "cell_type": "code",
   "execution_count": null,
   "metadata": {
    "id": "OJXhceryK8R2"
   },
   "outputs": [],
   "source": [
    "from tensorflow.keras.datasets.mnist import load_data\n",
    "import matplotlib.pyplot as plt\n",
    "from tensorflow.keras.utils import to_categorical"
   ]
  },
  {
   "cell_type": "code",
   "execution_count": null,
   "metadata": {
    "id": "iGQeYFawK8R6"
   },
   "outputs": [],
   "source": [
    "(x_train, y_train),(x_test, y_test) = load_data()"
   ]
  },
  {
   "cell_type": "code",
   "execution_count": null,
   "metadata": {
    "id": "R-ukepLeK8R6",
    "outputId": "3c04a615-ae18-479a-9d98-b0e8c326bb72"
   },
   "outputs": [
    {
     "name": "stdout",
     "output_type": "stream",
     "text": [
      "(60000, 28, 28)\n",
      "(60000,)\n",
      "(10000, 28, 28)\n",
      "(10000,)\n"
     ]
    }
   ],
   "source": [
    "print(x_train.shape)\n",
    "print(y_train.shape)\n",
    "print(x_test.shape)\n",
    "print(y_test.shape)"
   ]
  },
  {
   "cell_type": "code",
   "execution_count": null,
   "metadata": {
    "id": "0GsuIAzJK8R7",
    "outputId": "0348dbab-f391-4e36-f6cd-a74845f29c61"
   },
   "outputs": [
    {
     "data": {
      "image/png": "[encoded data removed]",
      "text/plain": [
       "<Figure size 432x288 with 1 Axes>"
      ]
     },
     "metadata": {
      "needs_background": "light"
     },
     "output_type": "display_data"
    }
   ],
   "source": [
    "plt.imshow(x_train[0], cmap=\"gray\")\n",
    "plt.title(y_train[0])\n",
    "plt.show()"
   ]
  },
  {
   "cell_type": "code",
   "execution_count": null,
   "metadata": {
    "id": "dLkS1K3nK8R8",
    "outputId": "bcc0bfae-104a-4af8-d3a8-08c5a289e9af"
   },
   "outputs": [
    {
     "data": {
      "text/plain": [
       "(60000, 28, 28)"
      ]
     },
     "execution_count": 92,
     "metadata": {},
     "output_type": "execute_result"
    }
   ],
   "source": [
    "x_train.shape"
   ]
  },
  {
   "cell_type": "code",
   "execution_count": null,
   "metadata": {
    "id": "4D07RNdyK8R9"
   },
   "outputs": [],
   "source": [
    "x_train = x_train.reshape(60000,784)/255\n",
    "x_test = x_test.reshape(10000,784)/255"
   ]
  },
  {
   "cell_type": "code",
   "execution_count": null,
   "metadata": {
    "id": "nHHiVmfrK8R9",
    "outputId": "f65996a3-3bb8-49db-ee38-d689017e7bb0"
   },
   "outputs": [
    {
     "data": {
      "text/plain": [
       "array([5, 0, 4, ..., 5, 6, 8], dtype=uint8)"
      ]
     },
     "execution_count": 94,
     "metadata": {},
     "output_type": "execute_result"
    }
   ],
   "source": [
    "y_train"
   ]
  },
  {
   "cell_type": "code",
   "execution_count": null,
   "metadata": {
    "id": "628vlakcK8R-"
   },
   "outputs": [],
   "source": [
    "y_train_ohe = to_categorical(y_train)\n",
    "y_test_ohe = to_categorical(y_test)"
   ]
  },
  {
   "cell_type": "code",
   "execution_count": null,
   "metadata": {
    "id": "bseDgm5WK8R-",
    "outputId": "cf5d408c-8b8d-4d2d-bcdf-7597e2cff90c"
   },
   "outputs": [
    {
     "name": "stdout",
     "output_type": "stream",
     "text": [
      "(60000, 784)\n",
      "(60000, 10)\n",
      "(10000, 784)\n",
      "(10000, 10)\n"
     ]
    }
   ],
   "source": [
    "print(x_train.shape)\n",
    "print(y_train_ohe.shape)\n",
    "print(x_test.shape)\n",
    "print(y_test_ohe.shape)"
   ]
  },
  {
   "cell_type": "markdown",
   "metadata": {
    "id": "QV3-92WDK8R_"
   },
   "source": [
    "### Neural Networks using Tensorflow"
   ]
  },
  {
   "cell_type": "code",
   "execution_count": null,
   "metadata": {
    "id": "8ySIO_UpK8SA"
   },
   "outputs": [],
   "source": [
    "from tensorflow.keras.models import Sequential\n",
    "from tensorflow.keras.layers import Input, Dense, Dropout, BatchNormalization\n",
    "from tensorflow.keras.optimizers import Adam\n",
    "from tensorflow.keras.regularizers import L1L2"
   ]
  },
  {
   "cell_type": "code",
   "execution_count": null,
   "metadata": {
    "id": "b68b6HBVK8SA"
   },
   "outputs": [],
   "source": [
    "model = Sequential()\n",
    "model.add(Input(784,))\n",
    "model.add(Dense(100, activation=\"relu\"))\n",
    "model.add(Dropout(0.1))\n",
    "# model.add(Dense(100, activation=\"relu\",kernel_regularizer = L1L2(l1=0, l2=0.3))) # Hiddenlayer with 100 units\n",
    "# model.add(BatchNormalization())\n",
    "model.add(Dense(10,\"softmax\"))"
   ]
  },
  {
   "cell_type": "code",
   "execution_count": null,
   "metadata": {
    "id": "Muc0oBbdK8SB"
   },
   "outputs": [],
   "source": [
    "model.compile(loss=\"categorical_crossentropy\", optimizer=Adam(learning_rate=0.001), metrics=\"accuracy\")"
   ]
  },
  {
   "cell_type": "code",
   "execution_count": null,
   "metadata": {
    "id": "WPXv6hndK8SB",
    "outputId": "24a4bf4f-4288-4ca0-8d88-84956853d5c6"
   },
   "outputs": [
    {
     "name": "stdout",
     "output_type": "stream",
     "text": [
      "Epoch 1/50\n",
      "60/60 [==============================] - 2s 14ms/step - loss: 0.8692 - accuracy: 0.7679 - val_loss: 0.3604 - val_accuracy: 0.9059\n",
      "Epoch 2/50\n",
      "60/60 [==============================] - 1s 10ms/step - loss: 0.3504 - accuracy: 0.9016 - val_loss: 0.2731 - val_accuracy: 0.9234\n",
      "Epoch 3/50\n",
      "60/60 [==============================] - 1s 10ms/step - loss: 0.2830 - accuracy: 0.9200 - val_loss: 0.2317 - val_accuracy: 0.9345\n",
      "Epoch 4/50\n",
      "60/60 [==============================] - 1s 10ms/step - loss: 0.2404 - accuracy: 0.9324 - val_loss: 0.2023 - val_accuracy: 0.9414\n",
      "Epoch 5/50\n",
      "60/60 [==============================] - 1s 12ms/step - loss: 0.2100 - accuracy: 0.9402 - val_loss: 0.1811 - val_accuracy: 0.9473\n",
      "Epoch 6/50\n",
      "60/60 [==============================] - 1s 13ms/step - loss: 0.1878 - accuracy: 0.9467 - val_loss: 0.1656 - val_accuracy: 0.9511\n",
      "Epoch 7/50\n",
      "60/60 [==============================] - 1s 10ms/step - loss: 0.1701 - accuracy: 0.9520 - val_loss: 0.1515 - val_accuracy: 0.9552\n",
      "Epoch 8/50\n",
      "60/60 [==============================] - 1s 12ms/step - loss: 0.1562 - accuracy: 0.9560 - val_loss: 0.1424 - val_accuracy: 0.9574\n",
      "Epoch 9/50\n",
      "60/60 [==============================] - 1s 12ms/step - loss: 0.1445 - accuracy: 0.9593 - val_loss: 0.1309 - val_accuracy: 0.9602\n",
      "Epoch 10/50\n",
      "60/60 [==============================] - 1s 11ms/step - loss: 0.1351 - accuracy: 0.9606 - val_loss: 0.1217 - val_accuracy: 0.9629\n",
      "Epoch 11/50\n",
      "60/60 [==============================] - 1s 11ms/step - loss: 0.1243 - accuracy: 0.9640 - val_loss: 0.1165 - val_accuracy: 0.9659\n",
      "Epoch 12/50\n",
      "60/60 [==============================] - 1s 11ms/step - loss: 0.1183 - accuracy: 0.9657 - val_loss: 0.1101 - val_accuracy: 0.9666\n",
      "Epoch 13/50\n",
      "60/60 [==============================] - 1s 11ms/step - loss: 0.1093 - accuracy: 0.9684 - val_loss: 0.1063 - val_accuracy: 0.9677\n",
      "Epoch 14/50\n",
      "60/60 [==============================] - 1s 11ms/step - loss: 0.1051 - accuracy: 0.9694 - val_loss: 0.1017 - val_accuracy: 0.9695\n",
      "Epoch 15/50\n",
      "60/60 [==============================] - 1s 11ms/step - loss: 0.0987 - accuracy: 0.9717 - val_loss: 0.0994 - val_accuracy: 0.9702\n",
      "Epoch 16/50\n",
      "60/60 [==============================] - 1s 13ms/step - loss: 0.0932 - accuracy: 0.9727 - val_loss: 0.0962 - val_accuracy: 0.9712\n",
      "Epoch 17/50\n",
      "60/60 [==============================] - 1s 12ms/step - loss: 0.0894 - accuracy: 0.9739 - val_loss: 0.0921 - val_accuracy: 0.9711\n",
      "Epoch 18/50\n",
      "60/60 [==============================] - 1s 11ms/step - loss: 0.0852 - accuracy: 0.9752 - val_loss: 0.0889 - val_accuracy: 0.9733\n",
      "Epoch 19/50\n",
      "60/60 [==============================] - 1s 11ms/step - loss: 0.0809 - accuracy: 0.9766 - val_loss: 0.0871 - val_accuracy: 0.9742\n",
      "Epoch 20/50\n",
      "60/60 [==============================] - 1s 11ms/step - loss: 0.0770 - accuracy: 0.9777 - val_loss: 0.0851 - val_accuracy: 0.9740\n",
      "Epoch 21/50\n",
      "60/60 [==============================] - 1s 12ms/step - loss: 0.0731 - accuracy: 0.9788 - val_loss: 0.0831 - val_accuracy: 0.9745\n",
      "Epoch 22/50\n",
      "60/60 [==============================] - 1s 12ms/step - loss: 0.0699 - accuracy: 0.9794 - val_loss: 0.0812 - val_accuracy: 0.9749\n",
      "Epoch 23/50\n",
      "60/60 [==============================] - 1s 11ms/step - loss: 0.0675 - accuracy: 0.9799 - val_loss: 0.0804 - val_accuracy: 0.9752\n",
      "Epoch 24/50\n",
      "60/60 [==============================] - 1s 11ms/step - loss: 0.0647 - accuracy: 0.9809 - val_loss: 0.0775 - val_accuracy: 0.9760\n",
      "Epoch 25/50\n",
      "60/60 [==============================] - 1s 11ms/step - loss: 0.0631 - accuracy: 0.9817 - val_loss: 0.0766 - val_accuracy: 0.9763\n",
      "Epoch 26/50\n",
      "60/60 [==============================] - 1s 11ms/step - loss: 0.0621 - accuracy: 0.9816 - val_loss: 0.0750 - val_accuracy: 0.9766\n",
      "Epoch 27/50\n",
      "60/60 [==============================] - 1s 11ms/step - loss: 0.0593 - accuracy: 0.9826 - val_loss: 0.0754 - val_accuracy: 0.9760\n",
      "Epoch 28/50\n",
      "60/60 [==============================] - 1s 12ms/step - loss: 0.0566 - accuracy: 0.9836 - val_loss: 0.0730 - val_accuracy: 0.9768\n",
      "Epoch 29/50\n",
      "60/60 [==============================] - 1s 11ms/step - loss: 0.0539 - accuracy: 0.9845 - val_loss: 0.0719 - val_accuracy: 0.9774\n",
      "Epoch 30/50\n",
      "60/60 [==============================] - 1s 11ms/step - loss: 0.0526 - accuracy: 0.9843 - val_loss: 0.0714 - val_accuracy: 0.9767\n",
      "Epoch 31/50\n",
      "60/60 [==============================] - 1s 10ms/step - loss: 0.0500 - accuracy: 0.9853 - val_loss: 0.0714 - val_accuracy: 0.9779\n",
      "Epoch 32/50\n",
      "60/60 [==============================] - 1s 11ms/step - loss: 0.0495 - accuracy: 0.9858 - val_loss: 0.0704 - val_accuracy: 0.9784\n",
      "Epoch 33/50\n",
      "60/60 [==============================] - 1s 11ms/step - loss: 0.0480 - accuracy: 0.9857 - val_loss: 0.0705 - val_accuracy: 0.9781\n",
      "Epoch 34/50\n",
      "60/60 [==============================] - 1s 11ms/step - loss: 0.0450 - accuracy: 0.9871 - val_loss: 0.0701 - val_accuracy: 0.9782\n",
      "Epoch 35/50\n",
      "60/60 [==============================] - 1s 11ms/step - loss: 0.0443 - accuracy: 0.9872 - val_loss: 0.0696 - val_accuracy: 0.9781\n",
      "Epoch 36/50\n",
      "60/60 [==============================] - 1s 11ms/step - loss: 0.0438 - accuracy: 0.9869 - val_loss: 0.0688 - val_accuracy: 0.9779\n",
      "Epoch 37/50\n",
      "60/60 [==============================] - 1s 12ms/step - loss: 0.0425 - accuracy: 0.9871 - val_loss: 0.0703 - val_accuracy: 0.9777\n",
      "Epoch 38/50\n",
      "60/60 [==============================] - 1s 13ms/step - loss: 0.0398 - accuracy: 0.9886 - val_loss: 0.0683 - val_accuracy: 0.9788\n",
      "Epoch 39/50\n",
      "60/60 [==============================] - 1s 12ms/step - loss: 0.0388 - accuracy: 0.9887 - val_loss: 0.0682 - val_accuracy: 0.9787\n",
      "Epoch 40/50\n",
      "60/60 [==============================] - 1s 12ms/step - loss: 0.0374 - accuracy: 0.9892 - val_loss: 0.0681 - val_accuracy: 0.9793\n",
      "Epoch 41/50\n",
      "60/60 [==============================] - 1s 11ms/step - loss: 0.0370 - accuracy: 0.9893 - val_loss: 0.0680 - val_accuracy: 0.9787\n",
      "Epoch 42/50\n",
      "60/60 [==============================] - 1s 10ms/step - loss: 0.0360 - accuracy: 0.9895 - val_loss: 0.0668 - val_accuracy: 0.9800\n",
      "Epoch 43/50\n",
      "60/60 [==============================] - 1s 10ms/step - loss: 0.0350 - accuracy: 0.9902 - val_loss: 0.0681 - val_accuracy: 0.9794\n",
      "Epoch 44/50\n",
      "60/60 [==============================] - 1s 10ms/step - loss: 0.0345 - accuracy: 0.9899 - val_loss: 0.0692 - val_accuracy: 0.9795\n",
      "Epoch 45/50\n",
      "60/60 [==============================] - 1s 10ms/step - loss: 0.0338 - accuracy: 0.9903 - val_loss: 0.0673 - val_accuracy: 0.9800\n",
      "Epoch 46/50\n",
      "60/60 [==============================] - 1s 10ms/step - loss: 0.0319 - accuracy: 0.9905 - val_loss: 0.0667 - val_accuracy: 0.9795\n",
      "Epoch 47/50\n",
      "60/60 [==============================] - 1s 11ms/step - loss: 0.0315 - accuracy: 0.9911 - val_loss: 0.0674 - val_accuracy: 0.9800\n",
      "Epoch 48/50\n",
      "60/60 [==============================] - 1s 10ms/step - loss: 0.0311 - accuracy: 0.9909 - val_loss: 0.0667 - val_accuracy: 0.9791\n",
      "Epoch 49/50\n",
      "60/60 [==============================] - 1s 11ms/step - loss: 0.0296 - accuracy: 0.9910 - val_loss: 0.0674 - val_accuracy: 0.9802\n",
      "Epoch 50/50\n",
      "60/60 [==============================] - 1s 10ms/step - loss: 0.0290 - accuracy: 0.9914 - val_loss: 0.0684 - val_accuracy: 0.9794\n"
     ]
    },
    {
     "data": {
      "text/plain": [
       "<keras.src.callbacks.History at 0x199824ff6a0>"
      ]
     },
     "execution_count": 129,
     "metadata": {},
     "output_type": "execute_result"
    }
   ],
   "source": [
    "model.fit(x=x_train, y=y_train_ohe, validation_data=(x_test, y_test_ohe), epochs=50, batch_size=1000)"
   ]
  },
  {
   "cell_type": "code",
   "execution_count": null,
   "metadata": {
    "id": "VpJ7OsQSK8SB",
    "outputId": "f72a3b39-d500-4ded-e672-9e156be46432"
   },
   "outputs": [
    {
     "name": "stdout",
     "output_type": "stream",
     "text": [
      "Model: \"sequential_17\"\n",
      "_________________________________________________________________\n",
      " Layer (type)                Output Shape              Param #   \n",
      "=================================================================\n",
      " dense_32 (Dense)            (None, 100)               78500     \n",
      "                                                                 \n",
      " dropout_8 (Dropout)         (None, 100)               0         \n",
      "                                                                 \n",
      " batch_normalization (Batch  (None, 100)               400       \n",
      " Normalization)                                                  \n",
      "                                                                 \n",
      " dense_33 (Dense)            (None, 10)                1010      \n",
      "                                                                 \n",
      "=================================================================\n",
      "Total params: 79910 (312.15 KB)\n",
      "Trainable params: 79710 (311.37 KB)\n",
      "Non-trainable params: 200 (800.00 Byte)\n",
      "_________________________________________________________________\n",
      "None\n"
     ]
    }
   ],
   "source": [
    "print(model.summary())"
   ]
  },
  {
   "cell_type": "code",
   "execution_count": null,
   "metadata": {
    "id": "naRlCViOK8SB",
    "outputId": "d3744524-b6f9-4523-e856-41f6ae89e84d"
   },
   "outputs": [
    {
     "data": {
      "image/png": "[encoded data removed]",
      "text/plain": [
       "<Figure size 432x288 with 1 Axes>"
      ]
     },
     "metadata": {
      "needs_background": "light"
     },
     "output_type": "display_data"
    }
   ],
   "source": [
    "train_loss = model.history.history[\"loss\"]\n",
    "val_loss = model.history.history[\"val_loss\"]\n",
    "\n",
    "plt.plot(train_loss)\n",
    "plt.plot(val_loss)\n",
    "plt.xlabel(\"Epochs\")\n",
    "plt.ylabel(\"Loss\")\n",
    "# plt.ylim((0,500))\n",
    "plt.legend([\"Train\", \"Test\"])\n",
    "plt.grid()\n",
    "plt.show()"
   ]
  },
  {
   "cell_type": "code",
   "execution_count": null,
   "metadata": {
    "id": "BgARY9QgK8SC",
    "outputId": "2ab39aad-a281-423e-c7e9-63443f82c3a7"
   },
   "outputs": [
    {
     "data": {
      "image/png": "[encoded data removed]",
      "text/plain": [
       "<Figure size 432x288 with 1 Axes>"
      ]
     },
     "metadata": {
      "needs_background": "light"
     },
     "output_type": "display_data"
    }
   ],
   "source": [
    "train_acc = model.history.history[\"accuracy\"]\n",
    "val_acc = model.history.history[\"val_accuracy\"]\n",
    "\n",
    "plt.plot(train_acc)\n",
    "plt.plot(val_acc)\n",
    "plt.ylim((0.55, 1.0))\n",
    "plt.xlabel(\"Epochs\")\n",
    "plt.ylabel(\"Accuracy\")\n",
    "plt.legend([\"Train\", \"Test\"])\n",
    "plt.grid()\n",
    "plt.show()"
   ]
  },
  {
   "cell_type": "code",
   "execution_count": null,
   "metadata": {
    "id": "zyTWUkLTK8SC",
    "outputId": "e56ed4e2-5c5f-4194-8ab3-e3a9ee0bde89"
   },
   "outputs": [
    {
     "data": {
      "image/png": "[encoded data removed]",
      "text/plain": [
       "<Figure size 432x288 with 1 Axes>"
      ]
     },
     "metadata": {
      "needs_background": "light"
     },
     "output_type": "display_data"
    }
   ],
   "source": [
    "plt.imshow(x_test[10].reshape(28,28), cmap=\"gray\")\n",
    "plt.show()"
   ]
  },
  {
   "cell_type": "code",
   "execution_count": null,
   "metadata": {
    "id": "Ch7u5vDDK8SC",
    "outputId": "7ccf13fa-47b2-4a4b-812e-43b1e22c5a85"
   },
   "outputs": [
    {
     "name": "stdout",
     "output_type": "stream",
     "text": [
      "313/313 [==============================] - 1s 2ms/step\n"
     ]
    }
   ],
   "source": [
    "preds = model.predict(x_test)[10]"
   ]
  },
  {
   "cell_type": "code",
   "execution_count": null,
   "metadata": {
    "id": "dQyr5zQfK8SC",
    "outputId": "06924949-e60b-4d34-9675-50aa48d324af"
   },
   "outputs": [
    {
     "data": {
      "text/plain": [
       "0"
      ]
     },
     "execution_count": 145,
     "metadata": {},
     "output_type": "execute_result"
    }
   ],
   "source": [
    "import numpy as np\n",
    "np.argmax(preds.round(3))"
   ]
  }
 ],
 "metadata": {
  "colab": {
   "provenance": []
  },
  "kernelspec": {
   "display_name": "Python 3 (ipykernel)",
   "language": "python",
   "name": "python3"
  },
  "language_info": {
   "codemirror_mode": {
    "name": "ipython",
    "version": 3
   },
   "file_extension": ".py",
   "mimetype": "text/x-python",
   "name": "python",
   "nbconvert_exporter": "python",
   "pygments_lexer": "ipython3",
   "version": "3.9.13"
  }
 },
 "nbformat": 4,
 "nbformat_minor": 1
}
